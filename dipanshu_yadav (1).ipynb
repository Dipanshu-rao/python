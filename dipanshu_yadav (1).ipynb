{
  "nbformat": 4,
  "nbformat_minor": 0,
  "metadata": {
    "colab": {
      "provenance": []
    },
    "kernelspec": {
      "name": "python3",
      "display_name": "Python 3"
    },
    "language_info": {
      "name": "python"
    }
  },
  "cells": [
    {
      "cell_type": "code",
      "execution_count": null,
      "metadata": {
        "id": "jMktScSxNH3m"
      },
      "outputs": [],
      "source": [
        "1. What is the primary goal of Object-Oriented Programming (OOP)?\n"
      ]
    },
    {
      "cell_type": "markdown",
      "source": [
        "Ans. = object-oriented Programming.The main concept of object-oriented Programming (OOPs) or oops concepts in Python is to bind the data and the functions that work together as a single unit so that no other part of the code can access this data.\n",
        "\n",
        " types\n",
        "\n",
        " (1) class = It is a template used to create objects. Data and functions are defined in a class.\n",
        "\n",
        "(2) Objects = This is an instance of a class. It represents something in the real world and contains data and functions defined by the class.\n",
        "\n",
        "(3) Polymorphism = This allows a function to work with different types. This can be done through overloading and overriding.\n",
        "\n",
        "(4)Encapsulation = It binds data and functions into a single unit. It protects data and prevents external interference.\n",
        "\n",
        "\n",
        "(5)Inheritance = It allows one class to inherit features and functionality from another class. This allows code reuse and reduces complexity.\n"
      ],
      "metadata": {
        "id": "sn9gUyc3T25P"
      }
    },
    {
      "cell_type": "markdown",
      "source": [
        "2. What is an object in Python?"
      ],
      "metadata": {
        "id": "gYJ55OU9VSvt"
      }
    },
    {
      "cell_type": "markdown",
      "source": [
        "Ans.In Python, an object is an instance of a class. Everything in Python is an object, which means that any value you work with—whether it’s a number, a string, a list, or even a function—is represented as an object in memory."
      ],
      "metadata": {
        "id": "LeX_cJFQVL6K"
      }
    },
    {
      "cell_type": "markdown",
      "source": [
        "3. What is a class in Python?"
      ],
      "metadata": {
        "id": "gdjQVJuDWhKL"
      }
    },
    {
      "cell_type": "markdown",
      "source": [
        "Ans.In Python, a class is a blueprint for creating objects. It defines a set of data and functions that the objects created from the class will have.\n"
      ],
      "metadata": {
        "id": "2b7k269sWcus"
      }
    },
    {
      "cell_type": "code",
      "source": [
        "class Car:\n",
        "  def __init__(self,brand,model,color):\n",
        "    self.brand = brand\n",
        "    self.model = model\n",
        "    self.color = color\n",
        "  def display_info(self):\n",
        "    print(f\"{self.model} {self.brand}  {self.color}\")"
      ],
      "metadata": {
        "id": "BKy4dGEBd0wg"
      },
      "execution_count": null,
      "outputs": []
    },
    {
      "cell_type": "code",
      "source": [
        "car1=Car(\"toyota\",\"fortuner legender\",\"Red\")"
      ],
      "metadata": {
        "id": "LnwF98wkeXSw"
      },
      "execution_count": null,
      "outputs": []
    },
    {
      "cell_type": "code",
      "source": [
        "car1.brand\n",
        "car1.model\n",
        "car1.color"
      ],
      "metadata": {
        "colab": {
          "base_uri": "https://localhost:8080/",
          "height": 36
        },
        "id": "_Oq1lxx8ebFu",
        "outputId": "91937892-bc09-4c17-9f1c-a7b7f19ab2c6"
      },
      "execution_count": null,
      "outputs": [
        {
          "output_type": "execute_result",
          "data": {
            "text/plain": [
              "'Red'"
            ],
            "application/vnd.google.colaboratory.intrinsic+json": {
              "type": "string"
            }
          },
          "metadata": {},
          "execution_count": 9
        }
      ]
    },
    {
      "cell_type": "markdown",
      "source": [
        " 4.  What are attributes and methods in a class?"
      ],
      "metadata": {
        "id": "a1Kq42rGhaHg"
      }
    },
    {
      "cell_type": "markdown",
      "source": [
        "Ans. Attributes are variables that belong to a class. They hold data associated with the objects created from that class.\n",
        "\n",
        "type of attributes\n",
        "\n",
        "Instance Attributes: These are specific to each object (instance) of the class. They are typically defined in the __init__ method using self.\n",
        "\n",
        "\n",
        " class attributes:These are shared across all instances of the class. They are defined directly within the class body but outside any methods.\n",
        "\n",
        "\n",
        "\n",
        "\n",
        "Methods\n",
        "\n",
        " Methods are functions defined within a class that describe the behaviors of the objects. They operate on the attributes and perform actions related to the class."
      ],
      "metadata": {
        "id": "i7WahN5Shg57"
      }
    },
    {
      "cell_type": "code",
      "source": [
        "class Car:\n",
        "  def __init__(self,brand,model,color):\n",
        "    self.brand = brand\n",
        "    self.model = model\n",
        "    self.color = color\n",
        "  def _init_(self):\n",
        "    print(f\"{self.model} {self.brand}  {self.color}\")"
      ],
      "metadata": {
        "id": "ipyWOJXvkARo"
      },
      "execution_count": null,
      "outputs": []
    },
    {
      "cell_type": "code",
      "source": [
        "car1=Car(\"toyota\",\"fortuner legender\",\"Red\")"
      ],
      "metadata": {
        "id": "yM9gKfcXkEWP"
      },
      "execution_count": null,
      "outputs": []
    },
    {
      "cell_type": "code",
      "source": [
        "car1.brand\n",
        "car1.model\n"
      ],
      "metadata": {
        "colab": {
          "base_uri": "https://localhost:8080/",
          "height": 36
        },
        "id": "X1rasrwwkHk0",
        "outputId": "e43759ac-1611-4fab-8fbb-6e24af3f0a0e"
      },
      "execution_count": null,
      "outputs": [
        {
          "output_type": "execute_result",
          "data": {
            "text/plain": [
              "'fortuner legender'"
            ],
            "application/vnd.google.colaboratory.intrinsic+json": {
              "type": "string"
            }
          },
          "metadata": {},
          "execution_count": 20
        }
      ]
    },
    {
      "cell_type": "markdown",
      "source": [
        "5. What is the difference between class variables and instance variables in Python"
      ],
      "metadata": {
        "id": "pMsmel-AnkOM"
      }
    },
    {
      "cell_type": "markdown",
      "source": [
        "Ans. Class variables:Class variables aise variables hote hain jo class ke sabhi instances (objects) ke liye shared hote hain. Ye class ke scope me define kiye jate hain aur ye sabhi instances dwara access kiye ja sakte hain.\n",
        "\n",
        "\n",
        "(2) instance variables:Instance variables aise variables hote hain jo kisi specific instance (object) ke liye unique hote hain. Ye variables class ke andar define kiye jate hain, lekin inhe instance methods (jaise __init__ constructor) ke andar initialize kiya jata hai.\n",
        "\n"
      ],
      "metadata": {
        "id": "8EKg2VkPhrex"
      }
    },
    {
      "cell_type": "markdown",
      "source": [
        "6. What is the purpose of the self parameter in Python class methods"
      ],
      "metadata": {
        "id": "1NvcMYN3psy9"
      }
    },
    {
      "cell_type": "markdown",
      "source": [
        "Ans.the self parameter is used in class methods to refer to the instance of the class itself. self allows access to the attributes and methods of the specific instance of the class. This means that within a class method, you can manipulate the instance's data.\n",
        "\n"
      ],
      "metadata": {
        "id": "__qImxr0pDHh"
      }
    },
    {
      "cell_type": "markdown",
      "source": [
        "7. For a library management system, you have to design the \"Book\" class with OOP\n",
        "principles in mind. The “Book” class will have following attributes:\n",
        "a. title: Represents the title of the book.\n",
        "b. author: Represents the author(s) of the book.\n",
        "c. isbn: Represents the ISBN (International Standard Book Number) of the book.\n",
        "d. publication_year: Represents the year of publication of the book.\n",
        "e. available_copies: Represents the number of copies available for checkout.\n",
        "The class will also include the following methods:\n",
        "a. check_out(self): Decrements the available copies by one if there are copies\n",
        "available for checkout.\n",
        "b. return_book(self): Increments the available copies by one when a book is\n",
        "returned.\n",
        "c. display_book_info(self): Displays the information about the book, including its\n",
        "attributes and the number of available copies.\n"
      ],
      "metadata": {
        "id": "ysOCWpdirJf4"
      }
    },
    {
      "cell_type": "code",
      "source": [
        "class Book:\n",
        "    def __init__(self, title, author, isbn, publication_year, available_copies):\n",
        "        self.title = title\n",
        "        self.author = author\n",
        "        self.isbn = isbn\n",
        "        self.publication_year = publication_year\n",
        "        self.available_copies = available_copies\n",
        "\n",
        "    def display_book_info(self):\n",
        "        self.display_title()\n",
        "        self.display_author()\n",
        "        self.display_isbn()\n",
        "        self.display_publication_year()\n",
        "        self.display_available_copies()\n",
        "\n",
        "    def display_title(self):\n",
        "        print(f\"Title: {self.title}\")\n",
        "\n",
        "    def display_author(self):\n",
        "        print(f\"Author: {self.author}\")\n",
        "\n",
        "    def display_isbn(self):\n",
        "        print(f\"ISBN: {self.isbn}\")\n",
        "\n",
        "    def display_publication_year(self):\n",
        "        print(f\"Publication Year: {self.publication_year}\")\n",
        "\n",
        "    def display_available_copies(self):\n",
        "        print(f\"Available Copies: {self.available_copies}\")\n",
        "\n",
        "\n",
        "bhagavad_gita = Book(\n",
        "    title=\"Bhagavad Gita\",\n",
        "    author=\"Vyasa\",\n",
        "    isbn=\"101234567765432\",\n",
        "    publication_year=3000,\n",
        "    available_copies=10\n",
        ")\n",
        "\n",
        "print(\"Book Information:\")\n",
        "bhagavad_gita.display_book_info()\n"
      ],
      "metadata": {
        "colab": {
          "base_uri": "https://localhost:8080/"
        },
        "id": "EuJLcDIh3UIT",
        "outputId": "c7267206-e44f-4dba-f60a-6ff38acc71b9"
      },
      "execution_count": 38,
      "outputs": [
        {
          "output_type": "stream",
          "name": "stdout",
          "text": [
            "Book Information:\n",
            "Title: Bhagavad Gita\n",
            "Author: Vyasa\n",
            "ISBN: 101234567765432\n",
            "Publication Year: 3000\n",
            "Available Copies: 10\n"
          ]
        }
      ]
    },
    {
      "cell_type": "markdown",
      "source": [
        "8. For a ticket booking system, you have to design the \"Ticket\" class with OOP\n",
        "principles in mind. The “Ticket” class should have the following attributes:\n",
        "a. ticket_id: Represents the unique identifier for the ticket.\n",
        "b. event_name: Represents the name of the event.\n",
        "c. event_date: Represents the date of the event.\n",
        "d. venue: Represents the venue of the event.\n",
        "e. seat_number: Represents the seat number associated with the ticket.\n",
        "f. price: Represents the price of the ticket.\n",
        "g. is_reserved: Represents the reservation status of the ticket.\n",
        "The class also includes the following methods:\n",
        "a. reserve_ticket(self): Marks the ticket as reserved if it is not already reserved.\n",
        "b. cancel_reservation(self): Cancels the reservation of the ticket if it is already\n",
        "reserved.\n",
        "c. display_ticket_info(self): Displays the information about the ticket, including its\n",
        "attributes and reservation status"
      ],
      "metadata": {
        "id": "t0AwXx40zQJi"
      }
    },
    {
      "cell_type": "code",
      "source": [
        "class Ticket:\n",
        "    def __init__(self, ticket_id, event_name, event_date, venue, seat_number, price):\n",
        "        self.ticket_id = ticket_id\n",
        "        self.event_name = event_name\n",
        "        self.event_date = event_date\n",
        "        self.venue = venue\n",
        "        self.seat_number = seat_number\n",
        "        self.price = price\n",
        "\n",
        "    def display_ticket_info(self):\n",
        "        self.display_ticket_id()\n",
        "        self.display_event_name()\n",
        "        self.display_event_date()\n",
        "        self.display_venue()\n",
        "        self.display_seat_number()\n",
        "        self.display_price()\n",
        "\n",
        "    def display_ticket_id(self):\n",
        "        print(f\"Ticket ID: {self.ticket_id}\")\n",
        "\n",
        "    def display_event_name(self):\n",
        "        print(f\"Event Name: {self.event_name}\")\n",
        "\n",
        "    def display_event_date(self):\n",
        "        print(f\"Event Date: {self.event_date}\")\n",
        "\n",
        "    def display_venue(self):\n",
        "        print(f\"Venue: {self.venue}\")\n",
        "\n",
        "    def display_seat_number(self):\n",
        "        print(f\"Seat Number: {self.seat_number}\")\n",
        "\n",
        "    def display_price(self):\n",
        "        print(f\"Price: {self.price:.2f}\")\n",
        "\n",
        "\n",
        "ticket1 = Ticket(\n",
        "    ticket_id=\"T12345\",\n",
        "    event_name=\"Concert of the Century\",\n",
        "    event_date=\"2024-12-01\",\n",
        "    venue=\"Madison Square Garden\",\n",
        "    seat_number=\"A23\",\n",
        "    price=150.00\n",
        ")\n",
        "\n",
        "\n",
        "print(\"Final Ticket Information:\")\n",
        "ticket1.display_ticket_info()\n"
      ],
      "metadata": {
        "colab": {
          "base_uri": "https://localhost:8080/"
        },
        "id": "9dgcfxzs2FIy",
        "outputId": "f9a3fc93-c7f0-44cd-b522-0f29d0e9ae71"
      },
      "execution_count": null,
      "outputs": [
        {
          "output_type": "stream",
          "name": "stdout",
          "text": [
            "Final Ticket Information:\n",
            "Ticket ID: T12345\n",
            "Event Name: Concert of the Century\n",
            "Event Date: 2024-12-01\n",
            "Venue: Madison Square Garden\n",
            "Seat Number: A23\n",
            "Price: 150.00\n"
          ]
        }
      ]
    },
    {
      "cell_type": "markdown",
      "source": [
        "9. You are creating a shopping cart for an e-commerce website. Using OOP to model\n",
        "the \"ShoppingCart\" functionality the class should contain following attributes and\n",
        "methods:\n",
        "a. items: Represents the list of items in the shopping cart.\n",
        "The class also includes the following methods:\n",
        "a. add_item(self, item): Adds an item to the shopping cart by appending it to the\n",
        "list of items.\n",
        "b. remove_item(self, item): Removes an item from the shopping cart if it exists in\n",
        "the list.\n",
        "c. view_cart(self): Displays the items currently present in the shopping cart.\n",
        "d. clear_cart(self): Clears all items from the shopping cart by reassigning an\n",
        "empty list to the items attribut"
      ],
      "metadata": {
        "id": "U4HVkuBH3uvU"
      }
    },
    {
      "cell_type": "code",
      "source": [
        "class ShoppingCart:\n",
        "    def __init__(self):\n",
        "        self.items = []\n",
        "\n",
        "    def add_item(self, item):\n",
        "        self.items.append(item)\n",
        "        print(f\"Added {item} cart.\")\n",
        "\n",
        "    def remove_item(self, item):\n",
        "        self.items.remove(item)\n",
        "\n",
        "    def view_cart(self):\n",
        "        print(\"Items in your cart:\")\n",
        "        print(self.items)\n",
        "\n",
        "    def clear_cart(self):\n",
        "        self.items = []\n",
        "        print(\"All items  removed from your cart.\")\n",
        "\n",
        "cart = ShoppingCart()\n",
        "\n",
        "cart.add_item(\"Laptop\")\n",
        "cart.add_item(\"Smartphone\")\n",
        "\n",
        "cart.view_cart()\n",
        "\n",
        "cart.remove_item(\"Smartphone\")\n",
        "\n",
        "\n",
        "cart.view_cart()\n",
        "\n",
        "\n",
        "cart.clear_cart()\n",
        "\n"
      ],
      "metadata": {
        "colab": {
          "base_uri": "https://localhost:8080/"
        },
        "id": "KariQTj3IOOV",
        "outputId": "e48216f9-a1ac-417b-eaf2-1bd2cae38c20"
      },
      "execution_count": 12,
      "outputs": [
        {
          "output_type": "stream",
          "name": "stdout",
          "text": [
            "Added Laptop cart.\n",
            "Added Smartphone cart.\n",
            "Items in your cart:\n",
            "['Laptop', 'Smartphone']\n",
            "Items in your cart:\n",
            "['Laptop']\n",
            "All items  removed from your cart.\n"
          ]
        }
      ]
    },
    {
      "cell_type": "markdown",
      "source": [
        "10. Imagine a school management system. You have to design the \"Student\" class using\n",
        "OOP concepts.The “Student” class has the following attributes:\n",
        "a. name: Represents the name of the student.\n",
        "b. age: Represents the age of the student.\n",
        "c. grade: Represents the grade or class of the student.\n",
        "d. student_id: Represents the unique identifier for the student.\n",
        "e. attendance: Represents the attendance record of the student.\n",
        "The class should also include the following methods:\n",
        "a. update_attendance(self, date, status): Updates the attendance record of the\n",
        "student for a given date with the provided status (e.g., present or absent).\n",
        "b. get_attendance(self): Returns the attendance record of the student.\n",
        "c. get_average_attendance(self): Calculates and returns the average\n",
        "attendance percentage of the student based on their attendance record."
      ],
      "metadata": {
        "id": "E-djCLryDkz2"
      }
    },
    {
      "cell_type": "code",
      "source": [
        "class Student:\n",
        "    def __init__(self, name):\n",
        "        self.name = name\n",
        "        self.attendance = {}\n",
        "\n",
        "    def mark_present(self, date):\n",
        "        self.attendance[date] = \"present\"\n",
        "        print(f\"{self.name} is present on {date}.\")\n",
        "\n",
        "    def mark_absent(self, date):\n",
        "        self.attendance[date] = \"absent\"\n",
        "        print(f\"{self.name} is absent on {date}.\")\n",
        "\n",
        "    def get_attendance(self):\n",
        "        print(f\"{self.name}'s Attendance Record:\")\n",
        "        print(\"2024-10-02:\", self.attendance.get(\"1-10-2024\", \"Not recorded\"))\n",
        "\n",
        "    def get_average_attendance(self):\n",
        "        total_days = 2\n",
        "        present_days = 0\n",
        "\n",
        "        present_days += self.attendance.get(\"2-10-2024\") == \"present\"\n",
        "\n",
        "        average = (present_days / total_days) * 100\n",
        "        print(f\"{self.name}'s Average  is: {average:.2f}%\")\n",
        "\n",
        "\n",
        "student1 = Student(\"Dianshu\")\n",
        "student1.mark_present(\"2-10-2024\")\n",
        "student1.mark_absent(\"1-10-2024\")\n",
        "\n",
        "student1.get_attendance()\n",
        "\n",
        "student1.get_average_attendance()\n"
      ],
      "metadata": {
        "colab": {
          "base_uri": "https://localhost:8080/"
        },
        "id": "UosaN4ToRYd2",
        "outputId": "591fd286-dd00-4a1e-c026-7d45e3d760fc"
      },
      "execution_count": 37,
      "outputs": [
        {
          "output_type": "stream",
          "name": "stdout",
          "text": [
            "Dianshu is present on 2-10-2024.\n",
            "Dianshu is absent on 1-10-2024.\n",
            "Dianshu's Attendance Record:\n",
            "2024-10-02: absent\n",
            "Dianshu's Average  is: 50.00%\n"
          ]
        }
      ]
    }
  ]
}